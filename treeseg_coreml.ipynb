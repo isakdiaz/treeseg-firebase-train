{
  "nbformat": 4,
  "nbformat_minor": 0,
  "metadata": {
    "colab": {
      "name": "treeseg_coreml.ipynb",
      "provenance": [],
      "authorship_tag": "ABX9TyOM3LeC+68+FeGTE2z21Aqf",
      "include_colab_link": true
    },
    "kernelspec": {
      "name": "python3",
      "display_name": "Python 3"
    },
    "language_info": {
      "name": "python"
    }
  },
  "cells": [
    {
      "cell_type": "markdown",
      "metadata": {
        "id": "view-in-github",
        "colab_type": "text"
      },
      "source": [
        "<a href=\"https://colab.research.google.com/github/isakdiaz/treeseg-firebase-train/blob/main/treeseg_coreml.ipynb\" target=\"_parent\"><img src=\"https://colab.research.google.com/assets/colab-badge.svg\" alt=\"Open In Colab\"/></a>"
      ]
    },
    {
      "cell_type": "markdown",
      "metadata": {
        "id": "yuWqzi58oPZU"
      },
      "source": [
        "# CoreML Conversion from Tensorflow Model\n",
        "Notebook is for loading DeepLabV3 tree segmentation model from google drive and doing a CoreML conversion so you can generate an mlmodel file that runs on iOS devices. Run treeseg_train.ipynb first if you still do not have a model."
      ]
    },
    {
      "cell_type": "code",
      "metadata": {
        "id": "0cnpWQoIQ3uW",
        "colab": {
          "base_uri": "https://localhost:8080/"
        },
        "outputId": "a27fabf5-87f3-4c42-c988-dc850bc3f397"
      },
      "source": [
        "%tensorflow_version 2.x\n",
        "import os\n",
        "import tensorflow as tf\n",
        "from tensorflow import keras\n",
        "from tensorflow.keras import layers\n",
        "import numpy as np\n",
        "import pandas as pd\n",
        "import matplotlib.pyplot as plt\n",
        "import pprint\n",
        "import json\n",
        "from sklearn.preprocessing import StandardScaler\n",
        "from sklearn.metrics import r2_score\n",
        "import json\n",
        "import tensorflow_datasets as tfds\n",
        "\n",
        "from tensorflow.keras.layers import Dense, GlobalAveragePooling2D\n",
        "from tensorflow.keras.layers.experimental.preprocessing import Resizing\n",
        "from tensorflow.keras.models import Model\n",
        "from tensorflow.keras.applications.mobilenet_v2 import preprocess_input\n",
        "from tensorflow.keras.preprocessing import image\n",
        "from tensorflow.keras import backend as K\n",
        "from tensorflow.keras.utils import CustomObjectScope\n",
        "from tqdm import tqdm\n",
        "\n",
        "\n",
        "from tensorflow.keras.callbacks import ModelCheckpoint\n",
        "print(f\"Running tensorflow version {tf.__version__}\")"
      ],
      "execution_count": 1,
      "outputs": [
        {
          "output_type": "stream",
          "name": "stdout",
          "text": [
            "Running tensorflow version 2.7.0\n"
          ]
        }
      ]
    },
    {
      "cell_type": "markdown",
      "metadata": {
        "id": "z7KpDm6dQZMs"
      },
      "source": [
        "## Load Cloud Drive"
      ]
    },
    {
      "cell_type": "code",
      "metadata": {
        "id": "D62UafuKB5N7",
        "colab": {
          "base_uri": "https://localhost:8080/"
        },
        "outputId": "ed7eb551-37f8-4208-e506-b796c4cb32bb"
      },
      "source": [
        "from google.colab import drive\n",
        "drive.mount('/content/drive')"
      ],
      "execution_count": 2,
      "outputs": [
        {
          "output_type": "stream",
          "name": "stdout",
          "text": [
            "Mounted at /content/drive\n"
          ]
        }
      ]
    },
    {
      "cell_type": "markdown",
      "metadata": {
        "id": "fXZUk33Vpvug"
      },
      "source": [
        "## Install CoreML Tools\n",
        "(Requires Python 3.5 +)"
      ]
    },
    {
      "cell_type": "code",
      "metadata": {
        "id": "0mzwPPEopvfX",
        "colab": {
          "base_uri": "https://localhost:8080/"
        },
        "outputId": "85434041-c007-4d98-cd34-8d3867d0848a"
      },
      "source": [
        "!pip install coremltools\n",
        "import coremltools as ct"
      ],
      "execution_count": 3,
      "outputs": [
        {
          "output_type": "stream",
          "name": "stdout",
          "text": [
            "Collecting coremltools\n",
            "  Downloading coremltools-5.1.0-cp37-none-manylinux1_x86_64.whl (1.6 MB)\n",
            "\u001b[?25l\r\u001b[K     |▏                               | 10 kB 28.0 MB/s eta 0:00:01\r\u001b[K     |▍                               | 20 kB 26.3 MB/s eta 0:00:01\r\u001b[K     |▋                               | 30 kB 22.1 MB/s eta 0:00:01\r\u001b[K     |▉                               | 40 kB 16.8 MB/s eta 0:00:01\r\u001b[K     |█                               | 51 kB 10.6 MB/s eta 0:00:01\r\u001b[K     |█▎                              | 61 kB 11.1 MB/s eta 0:00:01\r\u001b[K     |█▌                              | 71 kB 10.1 MB/s eta 0:00:01\r\u001b[K     |█▊                              | 81 kB 11.0 MB/s eta 0:00:01\r\u001b[K     |██                              | 92 kB 11.5 MB/s eta 0:00:01\r\u001b[K     |██                              | 102 kB 9.8 MB/s eta 0:00:01\r\u001b[K     |██▎                             | 112 kB 9.8 MB/s eta 0:00:01\r\u001b[K     |██▌                             | 122 kB 9.8 MB/s eta 0:00:01\r\u001b[K     |██▊                             | 133 kB 9.8 MB/s eta 0:00:01\r\u001b[K     |███                             | 143 kB 9.8 MB/s eta 0:00:01\r\u001b[K     |███▏                            | 153 kB 9.8 MB/s eta 0:00:01\r\u001b[K     |███▍                            | 163 kB 9.8 MB/s eta 0:00:01\r\u001b[K     |███▋                            | 174 kB 9.8 MB/s eta 0:00:01\r\u001b[K     |███▉                            | 184 kB 9.8 MB/s eta 0:00:01\r\u001b[K     |████                            | 194 kB 9.8 MB/s eta 0:00:01\r\u001b[K     |████▏                           | 204 kB 9.8 MB/s eta 0:00:01\r\u001b[K     |████▍                           | 215 kB 9.8 MB/s eta 0:00:01\r\u001b[K     |████▋                           | 225 kB 9.8 MB/s eta 0:00:01\r\u001b[K     |████▉                           | 235 kB 9.8 MB/s eta 0:00:01\r\u001b[K     |█████                           | 245 kB 9.8 MB/s eta 0:00:01\r\u001b[K     |█████▎                          | 256 kB 9.8 MB/s eta 0:00:01\r\u001b[K     |█████▌                          | 266 kB 9.8 MB/s eta 0:00:01\r\u001b[K     |█████▊                          | 276 kB 9.8 MB/s eta 0:00:01\r\u001b[K     |██████                          | 286 kB 9.8 MB/s eta 0:00:01\r\u001b[K     |██████▏                         | 296 kB 9.8 MB/s eta 0:00:01\r\u001b[K     |██████▎                         | 307 kB 9.8 MB/s eta 0:00:01\r\u001b[K     |██████▌                         | 317 kB 9.8 MB/s eta 0:00:01\r\u001b[K     |██████▊                         | 327 kB 9.8 MB/s eta 0:00:01\r\u001b[K     |███████                         | 337 kB 9.8 MB/s eta 0:00:01\r\u001b[K     |███████▏                        | 348 kB 9.8 MB/s eta 0:00:01\r\u001b[K     |███████▍                        | 358 kB 9.8 MB/s eta 0:00:01\r\u001b[K     |███████▋                        | 368 kB 9.8 MB/s eta 0:00:01\r\u001b[K     |███████▉                        | 378 kB 9.8 MB/s eta 0:00:01\r\u001b[K     |████████                        | 389 kB 9.8 MB/s eta 0:00:01\r\u001b[K     |████████▏                       | 399 kB 9.8 MB/s eta 0:00:01\r\u001b[K     |████████▍                       | 409 kB 9.8 MB/s eta 0:00:01\r\u001b[K     |████████▋                       | 419 kB 9.8 MB/s eta 0:00:01\r\u001b[K     |████████▉                       | 430 kB 9.8 MB/s eta 0:00:01\r\u001b[K     |█████████                       | 440 kB 9.8 MB/s eta 0:00:01\r\u001b[K     |█████████▎                      | 450 kB 9.8 MB/s eta 0:00:01\r\u001b[K     |█████████▌                      | 460 kB 9.8 MB/s eta 0:00:01\r\u001b[K     |█████████▊                      | 471 kB 9.8 MB/s eta 0:00:01\r\u001b[K     |██████████                      | 481 kB 9.8 MB/s eta 0:00:01\r\u001b[K     |██████████▏                     | 491 kB 9.8 MB/s eta 0:00:01\r\u001b[K     |██████████▎                     | 501 kB 9.8 MB/s eta 0:00:01\r\u001b[K     |██████████▌                     | 512 kB 9.8 MB/s eta 0:00:01\r\u001b[K     |██████████▊                     | 522 kB 9.8 MB/s eta 0:00:01\r\u001b[K     |███████████                     | 532 kB 9.8 MB/s eta 0:00:01\r\u001b[K     |███████████▏                    | 542 kB 9.8 MB/s eta 0:00:01\r\u001b[K     |███████████▍                    | 552 kB 9.8 MB/s eta 0:00:01\r\u001b[K     |███████████▋                    | 563 kB 9.8 MB/s eta 0:00:01\r\u001b[K     |███████████▉                    | 573 kB 9.8 MB/s eta 0:00:01\r\u001b[K     |████████████                    | 583 kB 9.8 MB/s eta 0:00:01\r\u001b[K     |████████████▎                   | 593 kB 9.8 MB/s eta 0:00:01\r\u001b[K     |████████████▍                   | 604 kB 9.8 MB/s eta 0:00:01\r\u001b[K     |████████████▋                   | 614 kB 9.8 MB/s eta 0:00:01\r\u001b[K     |████████████▉                   | 624 kB 9.8 MB/s eta 0:00:01\r\u001b[K     |█████████████                   | 634 kB 9.8 MB/s eta 0:00:01\r\u001b[K     |█████████████▎                  | 645 kB 9.8 MB/s eta 0:00:01\r\u001b[K     |█████████████▌                  | 655 kB 9.8 MB/s eta 0:00:01\r\u001b[K     |█████████████▊                  | 665 kB 9.8 MB/s eta 0:00:01\r\u001b[K     |██████████████                  | 675 kB 9.8 MB/s eta 0:00:01\r\u001b[K     |██████████████▏                 | 686 kB 9.8 MB/s eta 0:00:01\r\u001b[K     |██████████████▍                 | 696 kB 9.8 MB/s eta 0:00:01\r\u001b[K     |██████████████▌                 | 706 kB 9.8 MB/s eta 0:00:01\r\u001b[K     |██████████████▊                 | 716 kB 9.8 MB/s eta 0:00:01\r\u001b[K     |███████████████                 | 727 kB 9.8 MB/s eta 0:00:01\r\u001b[K     |███████████████▏                | 737 kB 9.8 MB/s eta 0:00:01\r\u001b[K     |███████████████▍                | 747 kB 9.8 MB/s eta 0:00:01\r\u001b[K     |███████████████▋                | 757 kB 9.8 MB/s eta 0:00:01\r\u001b[K     |███████████████▉                | 768 kB 9.8 MB/s eta 0:00:01\r\u001b[K     |████████████████                | 778 kB 9.8 MB/s eta 0:00:01\r\u001b[K     |████████████████▎               | 788 kB 9.8 MB/s eta 0:00:01\r\u001b[K     |████████████████▍               | 798 kB 9.8 MB/s eta 0:00:01\r\u001b[K     |████████████████▋               | 808 kB 9.8 MB/s eta 0:00:01\r\u001b[K     |████████████████▉               | 819 kB 9.8 MB/s eta 0:00:01\r\u001b[K     |█████████████████               | 829 kB 9.8 MB/s eta 0:00:01\r\u001b[K     |█████████████████▎              | 839 kB 9.8 MB/s eta 0:00:01\r\u001b[K     |█████████████████▌              | 849 kB 9.8 MB/s eta 0:00:01\r\u001b[K     |█████████████████▊              | 860 kB 9.8 MB/s eta 0:00:01\r\u001b[K     |██████████████████              | 870 kB 9.8 MB/s eta 0:00:01\r\u001b[K     |██████████████████▏             | 880 kB 9.8 MB/s eta 0:00:01\r\u001b[K     |██████████████████▍             | 890 kB 9.8 MB/s eta 0:00:01\r\u001b[K     |██████████████████▌             | 901 kB 9.8 MB/s eta 0:00:01\r\u001b[K     |██████████████████▊             | 911 kB 9.8 MB/s eta 0:00:01\r\u001b[K     |███████████████████             | 921 kB 9.8 MB/s eta 0:00:01\r\u001b[K     |███████████████████▏            | 931 kB 9.8 MB/s eta 0:00:01\r\u001b[K     |███████████████████▍            | 942 kB 9.8 MB/s eta 0:00:01\r\u001b[K     |███████████████████▋            | 952 kB 9.8 MB/s eta 0:00:01\r\u001b[K     |███████████████████▉            | 962 kB 9.8 MB/s eta 0:00:01\r\u001b[K     |████████████████████            | 972 kB 9.8 MB/s eta 0:00:01\r\u001b[K     |████████████████████▎           | 983 kB 9.8 MB/s eta 0:00:01\r\u001b[K     |████████████████████▌           | 993 kB 9.8 MB/s eta 0:00:01\r\u001b[K     |████████████████████▋           | 1.0 MB 9.8 MB/s eta 0:00:01\r\u001b[K     |████████████████████▉           | 1.0 MB 9.8 MB/s eta 0:00:01\r\u001b[K     |█████████████████████           | 1.0 MB 9.8 MB/s eta 0:00:01\r\u001b[K     |█████████████████████▎          | 1.0 MB 9.8 MB/s eta 0:00:01\r\u001b[K     |█████████████████████▌          | 1.0 MB 9.8 MB/s eta 0:00:01\r\u001b[K     |█████████████████████▊          | 1.1 MB 9.8 MB/s eta 0:00:01\r\u001b[K     |██████████████████████          | 1.1 MB 9.8 MB/s eta 0:00:01\r\u001b[K     |██████████████████████▏         | 1.1 MB 9.8 MB/s eta 0:00:01\r\u001b[K     |██████████████████████▍         | 1.1 MB 9.8 MB/s eta 0:00:01\r\u001b[K     |██████████████████████▌         | 1.1 MB 9.8 MB/s eta 0:00:01\r\u001b[K     |██████████████████████▊         | 1.1 MB 9.8 MB/s eta 0:00:01\r\u001b[K     |███████████████████████         | 1.1 MB 9.8 MB/s eta 0:00:01\r\u001b[K     |███████████████████████▏        | 1.1 MB 9.8 MB/s eta 0:00:01\r\u001b[K     |███████████████████████▍        | 1.1 MB 9.8 MB/s eta 0:00:01\r\u001b[K     |███████████████████████▋        | 1.1 MB 9.8 MB/s eta 0:00:01\r\u001b[K     |███████████████████████▉        | 1.2 MB 9.8 MB/s eta 0:00:01\r\u001b[K     |████████████████████████        | 1.2 MB 9.8 MB/s eta 0:00:01\r\u001b[K     |████████████████████████▎       | 1.2 MB 9.8 MB/s eta 0:00:01\r\u001b[K     |████████████████████████▌       | 1.2 MB 9.8 MB/s eta 0:00:01\r\u001b[K     |████████████████████████▋       | 1.2 MB 9.8 MB/s eta 0:00:01\r\u001b[K     |████████████████████████▉       | 1.2 MB 9.8 MB/s eta 0:00:01\r\u001b[K     |█████████████████████████       | 1.2 MB 9.8 MB/s eta 0:00:01\r\u001b[K     |█████████████████████████▎      | 1.2 MB 9.8 MB/s eta 0:00:01\r\u001b[K     |█████████████████████████▌      | 1.2 MB 9.8 MB/s eta 0:00:01\r\u001b[K     |█████████████████████████▊      | 1.2 MB 9.8 MB/s eta 0:00:01\r\u001b[K     |██████████████████████████      | 1.3 MB 9.8 MB/s eta 0:00:01\r\u001b[K     |██████████████████████████▏     | 1.3 MB 9.8 MB/s eta 0:00:01\r\u001b[K     |██████████████████████████▍     | 1.3 MB 9.8 MB/s eta 0:00:01\r\u001b[K     |██████████████████████████▋     | 1.3 MB 9.8 MB/s eta 0:00:01\r\u001b[K     |██████████████████████████▊     | 1.3 MB 9.8 MB/s eta 0:00:01\r\u001b[K     |███████████████████████████     | 1.3 MB 9.8 MB/s eta 0:00:01\r\u001b[K     |███████████████████████████▏    | 1.3 MB 9.8 MB/s eta 0:00:01\r\u001b[K     |███████████████████████████▍    | 1.3 MB 9.8 MB/s eta 0:00:01\r\u001b[K     |███████████████████████████▋    | 1.3 MB 9.8 MB/s eta 0:00:01\r\u001b[K     |███████████████████████████▉    | 1.4 MB 9.8 MB/s eta 0:00:01\r\u001b[K     |████████████████████████████    | 1.4 MB 9.8 MB/s eta 0:00:01\r\u001b[K     |████████████████████████████▎   | 1.4 MB 9.8 MB/s eta 0:00:01\r\u001b[K     |████████████████████████████▌   | 1.4 MB 9.8 MB/s eta 0:00:01\r\u001b[K     |████████████████████████████▊   | 1.4 MB 9.8 MB/s eta 0:00:01\r\u001b[K     |████████████████████████████▉   | 1.4 MB 9.8 MB/s eta 0:00:01\r\u001b[K     |█████████████████████████████   | 1.4 MB 9.8 MB/s eta 0:00:01\r\u001b[K     |█████████████████████████████▎  | 1.4 MB 9.8 MB/s eta 0:00:01\r\u001b[K     |█████████████████████████████▌  | 1.4 MB 9.8 MB/s eta 0:00:01\r\u001b[K     |█████████████████████████████▊  | 1.4 MB 9.8 MB/s eta 0:00:01\r\u001b[K     |██████████████████████████████  | 1.5 MB 9.8 MB/s eta 0:00:01\r\u001b[K     |██████████████████████████████▏ | 1.5 MB 9.8 MB/s eta 0:00:01\r\u001b[K     |██████████████████████████████▍ | 1.5 MB 9.8 MB/s eta 0:00:01\r\u001b[K     |██████████████████████████████▋ | 1.5 MB 9.8 MB/s eta 0:00:01\r\u001b[K     |██████████████████████████████▊ | 1.5 MB 9.8 MB/s eta 0:00:01\r\u001b[K     |███████████████████████████████ | 1.5 MB 9.8 MB/s eta 0:00:01\r\u001b[K     |███████████████████████████████▏| 1.5 MB 9.8 MB/s eta 0:00:01\r\u001b[K     |███████████████████████████████▍| 1.5 MB 9.8 MB/s eta 0:00:01\r\u001b[K     |███████████████████████████████▋| 1.5 MB 9.8 MB/s eta 0:00:01\r\u001b[K     |███████████████████████████████▉| 1.5 MB 9.8 MB/s eta 0:00:01\r\u001b[K     |████████████████████████████████| 1.6 MB 9.8 MB/s \n",
            "\u001b[?25hRequirement already satisfied: protobuf>=3.1.0 in /usr/local/lib/python3.7/dist-packages (from coremltools) (3.17.3)\n",
            "Requirement already satisfied: numpy>=1.14.5 in /usr/local/lib/python3.7/dist-packages (from coremltools) (1.19.5)\n",
            "Requirement already satisfied: tqdm in /usr/local/lib/python3.7/dist-packages (from coremltools) (4.62.3)\n",
            "Requirement already satisfied: sympy in /usr/local/lib/python3.7/dist-packages (from coremltools) (1.7.1)\n",
            "Requirement already satisfied: packaging in /usr/local/lib/python3.7/dist-packages (from coremltools) (21.3)\n",
            "Requirement already satisfied: six>=1.9 in /usr/local/lib/python3.7/dist-packages (from protobuf>=3.1.0->coremltools) (1.15.0)\n",
            "Requirement already satisfied: pyparsing!=3.0.5,>=2.0.2 in /usr/local/lib/python3.7/dist-packages (from packaging->coremltools) (3.0.6)\n",
            "Requirement already satisfied: mpmath>=0.19 in /usr/local/lib/python3.7/dist-packages (from sympy->coremltools) (1.2.1)\n",
            "Installing collected packages: coremltools\n",
            "Successfully installed coremltools-5.1.0\n"
          ]
        },
        {
          "output_type": "stream",
          "name": "stderr",
          "text": [
            "WARNING:root:scikit-learn version 1.0.2 is not supported. Minimum required version: 0.17. Maximum required version: 0.19.2. Disabling scikit-learn conversion API.\n",
            "WARNING:root:TensorFlow version 2.7.0 has not been tested with coremltools. You may run into unexpected errors. TensorFlow 2.5.0 is the most recent version that has been tested.\n",
            "WARNING:root:Keras version 2.7.0 has not been tested with coremltools. You may run into unexpected errors. Keras 2.2.4 is the most recent version that has been tested.\n",
            "WARNING:root:Torch version 1.10.0+cu111 has not been tested with coremltools. You may run into unexpected errors. Torch 1.9.1 is the most recent version that has been tested.\n"
          ]
        }
      ]
    },
    {
      "cell_type": "markdown",
      "metadata": {
        "id": "FRLMRzjKQe8z"
      },
      "source": [
        "# Load Model File\n",
        "Root directory of my google drive has saved_models folder which contains models. If you ran treeseg_train.ipynb\n",
        " your model folder should be in the same folder."
      ]
    },
    {
      "cell_type": "code",
      "metadata": {
        "id": "SLBCWq0t1K6B",
        "colab": {
          "base_uri": "https://localhost:8080/"
        },
        "outputId": "eb8d13b9-036e-469b-accd-793abb4f77e2"
      },
      "source": [
        "# Check if a model exists\n",
        "GDRIVE_FOLDER = \"/content/drive/MyDrive\"\n",
        "MODEL_FOLDER = \"saved_models/treeseg\"\n",
        "\n",
        "!ls -all -h {os.path.join(GDRIVE_FOLDER, MODEL_FOLDER)}"
      ],
      "execution_count": 4,
      "outputs": [
        {
          "output_type": "stream",
          "name": "stdout",
          "text": [
            "total 1.1G\n",
            "-rw------- 1 root root 206M Aug 29 16:09 treeseg2021-08-29.h5\n",
            "-rw------- 1 root root 206M Sep  1 04:31 treeseg_2021-09-01.h5\n",
            "-rw------- 1 root root 206M Sep  2 17:02 treeseg_2021-09-02.h5\n",
            "-rw------- 1 root root 206M Sep 16 03:50 treeseg_2021-09-16.h5\n",
            "-rw------- 1 root root 206M Jan 15 22:10 treeseg_2022-01-15.h5\n"
          ]
        }
      ]
    },
    {
      "cell_type": "code",
      "metadata": {
        "id": "rfXFLnyDBGYN"
      },
      "source": [
        "# Pick a model and replace model filename parameter\n",
        "MODEL_FILENAME = \"treeseg_2022-01-15.h5\"\n",
        "\n",
        "model_filepath = os.path.join(GDRIVE_FOLDER, MODEL_FOLDER, MODEL_FILENAME)"
      ],
      "execution_count": 5,
      "outputs": []
    },
    {
      "cell_type": "markdown",
      "metadata": {
        "id": "Z5aLJeatrXcr"
      },
      "source": [
        "## Load custom loss functions"
      ]
    },
    {
      "cell_type": "code",
      "metadata": {
        "id": "sn_Okg7GrbCh"
      },
      "source": [
        "def iou(y_true, y_pred):\n",
        "    def f(y_true, y_pred):\n",
        "        intersection = (y_true * y_pred).sum()\n",
        "        union = y_true.sum() + y_pred.sum() - intersection\n",
        "        x = (intersection + 1e-15) / (union + 1e-15)\n",
        "        x = x.astype(np.float32)\n",
        "        return x\n",
        "    return tf.numpy_function(f, [y_true, y_pred], tf.float32)\n",
        "\n",
        "smooth = 1e-15\n",
        "def dice_coef(y_true, y_pred):\n",
        "    y_true = tf.keras.layers.Flatten()(y_true)\n",
        "    y_pred = tf.keras.layers.Flatten()(y_pred)\n",
        "    intersection = tf.reduce_sum(y_true * y_pred)\n",
        "    return (2. * intersection + smooth) / (tf.reduce_sum(y_true) + tf.reduce_sum(y_pred) + smooth)\n",
        "\n",
        "def dice_loss(y_true, y_pred):\n",
        "    return 1.0 - dice_coef(y_true, y_pred)"
      ],
      "execution_count": 6,
      "outputs": []
    },
    {
      "cell_type": "markdown",
      "metadata": {
        "id": "eonD8uJRrt7h"
      },
      "source": [
        "# Load Model"
      ]
    },
    {
      "cell_type": "code",
      "metadata": {
        "id": "A_zQ7ynto5ZF",
        "colab": {
          "base_uri": "https://localhost:8080/"
        },
        "outputId": "bdb8eefc-d7bd-47fd-d734-607d59ef4468"
      },
      "source": [
        "with CustomObjectScope({'iou': iou, 'dice_coef': dice_coef, 'dice_loss': dice_loss}):\n",
        "  model = tf.keras.models.load_model(model_filepath)\n",
        "\n",
        "print(f\"Model loaded from path {model_filepath}\")"
      ],
      "execution_count": 7,
      "outputs": [
        {
          "output_type": "stream",
          "name": "stdout",
          "text": [
            "Model loaded from path /content/drive/MyDrive/saved_models/treeseg/treeseg_2022-01-15.h5\n"
          ]
        }
      ]
    },
    {
      "cell_type": "code",
      "metadata": {
        "id": "nNJtaYh1u3v2",
        "colab": {
          "base_uri": "https://localhost:8080/"
        },
        "outputId": "be606868-0586-46de-ee1d-040b867adcbf"
      },
      "source": [
        "model.summary()"
      ],
      "execution_count": 8,
      "outputs": [
        {
          "output_type": "stream",
          "name": "stdout",
          "text": [
            "Model: \"model\"\n",
            "__________________________________________________________________________________________________\n",
            " Layer (type)                   Output Shape         Param #     Connected to                     \n",
            "==================================================================================================\n",
            " input_1 (InputLayer)           [(None, 512, 512, 3  0           []                               \n",
            "                                )]                                                                \n",
            "                                                                                                  \n",
            " conv1_pad (ZeroPadding2D)      (None, 518, 518, 3)  0           ['input_1[0][0]']                \n",
            "                                                                                                  \n",
            " conv1_conv (Conv2D)            (None, 256, 256, 64  9472        ['conv1_pad[0][0]']              \n",
            "                                )                                                                 \n",
            "                                                                                                  \n",
            " conv1_bn (BatchNormalization)  (None, 256, 256, 64  256         ['conv1_conv[0][0]']             \n",
            "                                )                                                                 \n",
            "                                                                                                  \n",
            " conv1_relu (Activation)        (None, 256, 256, 64  0           ['conv1_bn[0][0]']               \n",
            "                                )                                                                 \n",
            "                                                                                                  \n",
            " pool1_pad (ZeroPadding2D)      (None, 258, 258, 64  0           ['conv1_relu[0][0]']             \n",
            "                                )                                                                 \n",
            "                                                                                                  \n",
            " pool1_pool (MaxPooling2D)      (None, 128, 128, 64  0           ['pool1_pad[0][0]']              \n",
            "                                )                                                                 \n",
            "                                                                                                  \n",
            " conv2_block1_1_conv (Conv2D)   (None, 128, 128, 64  4160        ['pool1_pool[0][0]']             \n",
            "                                )                                                                 \n",
            "                                                                                                  \n",
            " conv2_block1_1_bn (BatchNormal  (None, 128, 128, 64  256        ['conv2_block1_1_conv[0][0]']    \n",
            " ization)                       )                                                                 \n",
            "                                                                                                  \n",
            " conv2_block1_1_relu (Activatio  (None, 128, 128, 64  0          ['conv2_block1_1_bn[0][0]']      \n",
            " n)                             )                                                                 \n",
            "                                                                                                  \n",
            " conv2_block1_2_conv (Conv2D)   (None, 128, 128, 64  36928       ['conv2_block1_1_relu[0][0]']    \n",
            "                                )                                                                 \n",
            "                                                                                                  \n",
            " conv2_block1_2_bn (BatchNormal  (None, 128, 128, 64  256        ['conv2_block1_2_conv[0][0]']    \n",
            " ization)                       )                                                                 \n",
            "                                                                                                  \n",
            " conv2_block1_2_relu (Activatio  (None, 128, 128, 64  0          ['conv2_block1_2_bn[0][0]']      \n",
            " n)                             )                                                                 \n",
            "                                                                                                  \n",
            " conv2_block1_0_conv (Conv2D)   (None, 128, 128, 25  16640       ['pool1_pool[0][0]']             \n",
            "                                6)                                                                \n",
            "                                                                                                  \n",
            " conv2_block1_3_conv (Conv2D)   (None, 128, 128, 25  16640       ['conv2_block1_2_relu[0][0]']    \n",
            "                                6)                                                                \n",
            "                                                                                                  \n",
            " conv2_block1_0_bn (BatchNormal  (None, 128, 128, 25  1024       ['conv2_block1_0_conv[0][0]']    \n",
            " ization)                       6)                                                                \n",
            "                                                                                                  \n",
            " conv2_block1_3_bn (BatchNormal  (None, 128, 128, 25  1024       ['conv2_block1_3_conv[0][0]']    \n",
            " ization)                       6)                                                                \n",
            "                                                                                                  \n",
            " conv2_block1_add (Add)         (None, 128, 128, 25  0           ['conv2_block1_0_bn[0][0]',      \n",
            "                                6)                                'conv2_block1_3_bn[0][0]']      \n",
            "                                                                                                  \n",
            " conv2_block1_out (Activation)  (None, 128, 128, 25  0           ['conv2_block1_add[0][0]']       \n",
            "                                6)                                                                \n",
            "                                                                                                  \n",
            " conv2_block2_1_conv (Conv2D)   (None, 128, 128, 64  16448       ['conv2_block1_out[0][0]']       \n",
            "                                )                                                                 \n",
            "                                                                                                  \n",
            " conv2_block2_1_bn (BatchNormal  (None, 128, 128, 64  256        ['conv2_block2_1_conv[0][0]']    \n",
            " ization)                       )                                                                 \n",
            "                                                                                                  \n",
            " conv2_block2_1_relu (Activatio  (None, 128, 128, 64  0          ['conv2_block2_1_bn[0][0]']      \n",
            " n)                             )                                                                 \n",
            "                                                                                                  \n",
            " conv2_block2_2_conv (Conv2D)   (None, 128, 128, 64  36928       ['conv2_block2_1_relu[0][0]']    \n",
            "                                )                                                                 \n",
            "                                                                                                  \n",
            " conv2_block2_2_bn (BatchNormal  (None, 128, 128, 64  256        ['conv2_block2_2_conv[0][0]']    \n",
            " ization)                       )                                                                 \n",
            "                                                                                                  \n",
            " conv2_block2_2_relu (Activatio  (None, 128, 128, 64  0          ['conv2_block2_2_bn[0][0]']      \n",
            " n)                             )                                                                 \n",
            "                                                                                                  \n",
            " conv2_block2_3_conv (Conv2D)   (None, 128, 128, 25  16640       ['conv2_block2_2_relu[0][0]']    \n",
            "                                6)                                                                \n",
            "                                                                                                  \n",
            " conv2_block2_3_bn (BatchNormal  (None, 128, 128, 25  1024       ['conv2_block2_3_conv[0][0]']    \n",
            " ization)                       6)                                                                \n",
            "                                                                                                  \n",
            " conv2_block2_add (Add)         (None, 128, 128, 25  0           ['conv2_block1_out[0][0]',       \n",
            "                                6)                                'conv2_block2_3_bn[0][0]']      \n",
            "                                                                                                  \n",
            " conv2_block2_out (Activation)  (None, 128, 128, 25  0           ['conv2_block2_add[0][0]']       \n",
            "                                6)                                                                \n",
            "                                                                                                  \n",
            " conv2_block3_1_conv (Conv2D)   (None, 128, 128, 64  16448       ['conv2_block2_out[0][0]']       \n",
            "                                )                                                                 \n",
            "                                                                                                  \n",
            " conv2_block3_1_bn (BatchNormal  (None, 128, 128, 64  256        ['conv2_block3_1_conv[0][0]']    \n",
            " ization)                       )                                                                 \n",
            "                                                                                                  \n",
            " conv2_block3_1_relu (Activatio  (None, 128, 128, 64  0          ['conv2_block3_1_bn[0][0]']      \n",
            " n)                             )                                                                 \n",
            "                                                                                                  \n",
            " conv2_block3_2_conv (Conv2D)   (None, 128, 128, 64  36928       ['conv2_block3_1_relu[0][0]']    \n",
            "                                )                                                                 \n",
            "                                                                                                  \n",
            " conv2_block3_2_bn (BatchNormal  (None, 128, 128, 64  256        ['conv2_block3_2_conv[0][0]']    \n",
            " ization)                       )                                                                 \n",
            "                                                                                                  \n",
            " conv2_block3_2_relu (Activatio  (None, 128, 128, 64  0          ['conv2_block3_2_bn[0][0]']      \n",
            " n)                             )                                                                 \n",
            "                                                                                                  \n",
            " conv2_block3_3_conv (Conv2D)   (None, 128, 128, 25  16640       ['conv2_block3_2_relu[0][0]']    \n",
            "                                6)                                                                \n",
            "                                                                                                  \n",
            " conv2_block3_3_bn (BatchNormal  (None, 128, 128, 25  1024       ['conv2_block3_3_conv[0][0]']    \n",
            " ization)                       6)                                                                \n",
            "                                                                                                  \n",
            " conv2_block3_add (Add)         (None, 128, 128, 25  0           ['conv2_block2_out[0][0]',       \n",
            "                                6)                                'conv2_block3_3_bn[0][0]']      \n",
            "                                                                                                  \n",
            " conv2_block3_out (Activation)  (None, 128, 128, 25  0           ['conv2_block3_add[0][0]']       \n",
            "                                6)                                                                \n",
            "                                                                                                  \n",
            " conv3_block1_1_conv (Conv2D)   (None, 64, 64, 128)  32896       ['conv2_block3_out[0][0]']       \n",
            "                                                                                                  \n",
            " conv3_block1_1_bn (BatchNormal  (None, 64, 64, 128)  512        ['conv3_block1_1_conv[0][0]']    \n",
            " ization)                                                                                         \n",
            "                                                                                                  \n",
            " conv3_block1_1_relu (Activatio  (None, 64, 64, 128)  0          ['conv3_block1_1_bn[0][0]']      \n",
            " n)                                                                                               \n",
            "                                                                                                  \n",
            " conv3_block1_2_conv (Conv2D)   (None, 64, 64, 128)  147584      ['conv3_block1_1_relu[0][0]']    \n",
            "                                                                                                  \n",
            " conv3_block1_2_bn (BatchNormal  (None, 64, 64, 128)  512        ['conv3_block1_2_conv[0][0]']    \n",
            " ization)                                                                                         \n",
            "                                                                                                  \n",
            " conv3_block1_2_relu (Activatio  (None, 64, 64, 128)  0          ['conv3_block1_2_bn[0][0]']      \n",
            " n)                                                                                               \n",
            "                                                                                                  \n",
            " conv3_block1_0_conv (Conv2D)   (None, 64, 64, 512)  131584      ['conv2_block3_out[0][0]']       \n",
            "                                                                                                  \n",
            " conv3_block1_3_conv (Conv2D)   (None, 64, 64, 512)  66048       ['conv3_block1_2_relu[0][0]']    \n",
            "                                                                                                  \n",
            " conv3_block1_0_bn (BatchNormal  (None, 64, 64, 512)  2048       ['conv3_block1_0_conv[0][0]']    \n",
            " ization)                                                                                         \n",
            "                                                                                                  \n",
            " conv3_block1_3_bn (BatchNormal  (None, 64, 64, 512)  2048       ['conv3_block1_3_conv[0][0]']    \n",
            " ization)                                                                                         \n",
            "                                                                                                  \n",
            " conv3_block1_add (Add)         (None, 64, 64, 512)  0           ['conv3_block1_0_bn[0][0]',      \n",
            "                                                                  'conv3_block1_3_bn[0][0]']      \n",
            "                                                                                                  \n",
            " conv3_block1_out (Activation)  (None, 64, 64, 512)  0           ['conv3_block1_add[0][0]']       \n",
            "                                                                                                  \n",
            " conv3_block2_1_conv (Conv2D)   (None, 64, 64, 128)  65664       ['conv3_block1_out[0][0]']       \n",
            "                                                                                                  \n",
            " conv3_block2_1_bn (BatchNormal  (None, 64, 64, 128)  512        ['conv3_block2_1_conv[0][0]']    \n",
            " ization)                                                                                         \n",
            "                                                                                                  \n",
            " conv3_block2_1_relu (Activatio  (None, 64, 64, 128)  0          ['conv3_block2_1_bn[0][0]']      \n",
            " n)                                                                                               \n",
            "                                                                                                  \n",
            " conv3_block2_2_conv (Conv2D)   (None, 64, 64, 128)  147584      ['conv3_block2_1_relu[0][0]']    \n",
            "                                                                                                  \n",
            " conv3_block2_2_bn (BatchNormal  (None, 64, 64, 128)  512        ['conv3_block2_2_conv[0][0]']    \n",
            " ization)                                                                                         \n",
            "                                                                                                  \n",
            " conv3_block2_2_relu (Activatio  (None, 64, 64, 128)  0          ['conv3_block2_2_bn[0][0]']      \n",
            " n)                                                                                               \n",
            "                                                                                                  \n",
            " conv3_block2_3_conv (Conv2D)   (None, 64, 64, 512)  66048       ['conv3_block2_2_relu[0][0]']    \n",
            "                                                                                                  \n",
            " conv3_block2_3_bn (BatchNormal  (None, 64, 64, 512)  2048       ['conv3_block2_3_conv[0][0]']    \n",
            " ization)                                                                                         \n",
            "                                                                                                  \n",
            " conv3_block2_add (Add)         (None, 64, 64, 512)  0           ['conv3_block1_out[0][0]',       \n",
            "                                                                  'conv3_block2_3_bn[0][0]']      \n",
            "                                                                                                  \n",
            " conv3_block2_out (Activation)  (None, 64, 64, 512)  0           ['conv3_block2_add[0][0]']       \n",
            "                                                                                                  \n",
            " conv3_block3_1_conv (Conv2D)   (None, 64, 64, 128)  65664       ['conv3_block2_out[0][0]']       \n",
            "                                                                                                  \n",
            " conv3_block3_1_bn (BatchNormal  (None, 64, 64, 128)  512        ['conv3_block3_1_conv[0][0]']    \n",
            " ization)                                                                                         \n",
            "                                                                                                  \n",
            " conv3_block3_1_relu (Activatio  (None, 64, 64, 128)  0          ['conv3_block3_1_bn[0][0]']      \n",
            " n)                                                                                               \n",
            "                                                                                                  \n",
            " conv3_block3_2_conv (Conv2D)   (None, 64, 64, 128)  147584      ['conv3_block3_1_relu[0][0]']    \n",
            "                                                                                                  \n",
            " conv3_block3_2_bn (BatchNormal  (None, 64, 64, 128)  512        ['conv3_block3_2_conv[0][0]']    \n",
            " ization)                                                                                         \n",
            "                                                                                                  \n",
            " conv3_block3_2_relu (Activatio  (None, 64, 64, 128)  0          ['conv3_block3_2_bn[0][0]']      \n",
            " n)                                                                                               \n",
            "                                                                                                  \n",
            " conv3_block3_3_conv (Conv2D)   (None, 64, 64, 512)  66048       ['conv3_block3_2_relu[0][0]']    \n",
            "                                                                                                  \n",
            " conv3_block3_3_bn (BatchNormal  (None, 64, 64, 512)  2048       ['conv3_block3_3_conv[0][0]']    \n",
            " ization)                                                                                         \n",
            "                                                                                                  \n",
            " conv3_block3_add (Add)         (None, 64, 64, 512)  0           ['conv3_block2_out[0][0]',       \n",
            "                                                                  'conv3_block3_3_bn[0][0]']      \n",
            "                                                                                                  \n",
            " conv3_block3_out (Activation)  (None, 64, 64, 512)  0           ['conv3_block3_add[0][0]']       \n",
            "                                                                                                  \n",
            " conv3_block4_1_conv (Conv2D)   (None, 64, 64, 128)  65664       ['conv3_block3_out[0][0]']       \n",
            "                                                                                                  \n",
            " conv3_block4_1_bn (BatchNormal  (None, 64, 64, 128)  512        ['conv3_block4_1_conv[0][0]']    \n",
            " ization)                                                                                         \n",
            "                                                                                                  \n",
            " conv3_block4_1_relu (Activatio  (None, 64, 64, 128)  0          ['conv3_block4_1_bn[0][0]']      \n",
            " n)                                                                                               \n",
            "                                                                                                  \n",
            " conv3_block4_2_conv (Conv2D)   (None, 64, 64, 128)  147584      ['conv3_block4_1_relu[0][0]']    \n",
            "                                                                                                  \n",
            " conv3_block4_2_bn (BatchNormal  (None, 64, 64, 128)  512        ['conv3_block4_2_conv[0][0]']    \n",
            " ization)                                                                                         \n",
            "                                                                                                  \n",
            " conv3_block4_2_relu (Activatio  (None, 64, 64, 128)  0          ['conv3_block4_2_bn[0][0]']      \n",
            " n)                                                                                               \n",
            "                                                                                                  \n",
            " conv3_block4_3_conv (Conv2D)   (None, 64, 64, 512)  66048       ['conv3_block4_2_relu[0][0]']    \n",
            "                                                                                                  \n",
            " conv3_block4_3_bn (BatchNormal  (None, 64, 64, 512)  2048       ['conv3_block4_3_conv[0][0]']    \n",
            " ization)                                                                                         \n",
            "                                                                                                  \n",
            " conv3_block4_add (Add)         (None, 64, 64, 512)  0           ['conv3_block3_out[0][0]',       \n",
            "                                                                  'conv3_block4_3_bn[0][0]']      \n",
            "                                                                                                  \n",
            " conv3_block4_out (Activation)  (None, 64, 64, 512)  0           ['conv3_block4_add[0][0]']       \n",
            "                                                                                                  \n",
            " conv4_block1_1_conv (Conv2D)   (None, 32, 32, 256)  131328      ['conv3_block4_out[0][0]']       \n",
            "                                                                                                  \n",
            " conv4_block1_1_bn (BatchNormal  (None, 32, 32, 256)  1024       ['conv4_block1_1_conv[0][0]']    \n",
            " ization)                                                                                         \n",
            "                                                                                                  \n",
            " conv4_block1_1_relu (Activatio  (None, 32, 32, 256)  0          ['conv4_block1_1_bn[0][0]']      \n",
            " n)                                                                                               \n",
            "                                                                                                  \n",
            " conv4_block1_2_conv (Conv2D)   (None, 32, 32, 256)  590080      ['conv4_block1_1_relu[0][0]']    \n",
            "                                                                                                  \n",
            " conv4_block1_2_bn (BatchNormal  (None, 32, 32, 256)  1024       ['conv4_block1_2_conv[0][0]']    \n",
            " ization)                                                                                         \n",
            "                                                                                                  \n",
            " conv4_block1_2_relu (Activatio  (None, 32, 32, 256)  0          ['conv4_block1_2_bn[0][0]']      \n",
            " n)                                                                                               \n",
            "                                                                                                  \n",
            " conv4_block1_0_conv (Conv2D)   (None, 32, 32, 1024  525312      ['conv3_block4_out[0][0]']       \n",
            "                                )                                                                 \n",
            "                                                                                                  \n",
            " conv4_block1_3_conv (Conv2D)   (None, 32, 32, 1024  263168      ['conv4_block1_2_relu[0][0]']    \n",
            "                                )                                                                 \n",
            "                                                                                                  \n",
            " conv4_block1_0_bn (BatchNormal  (None, 32, 32, 1024  4096       ['conv4_block1_0_conv[0][0]']    \n",
            " ization)                       )                                                                 \n",
            "                                                                                                  \n",
            " conv4_block1_3_bn (BatchNormal  (None, 32, 32, 1024  4096       ['conv4_block1_3_conv[0][0]']    \n",
            " ization)                       )                                                                 \n",
            "                                                                                                  \n",
            " conv4_block1_add (Add)         (None, 32, 32, 1024  0           ['conv4_block1_0_bn[0][0]',      \n",
            "                                )                                 'conv4_block1_3_bn[0][0]']      \n",
            "                                                                                                  \n",
            " conv4_block1_out (Activation)  (None, 32, 32, 1024  0           ['conv4_block1_add[0][0]']       \n",
            "                                )                                                                 \n",
            "                                                                                                  \n",
            " conv4_block2_1_conv (Conv2D)   (None, 32, 32, 256)  262400      ['conv4_block1_out[0][0]']       \n",
            "                                                                                                  \n",
            " conv4_block2_1_bn (BatchNormal  (None, 32, 32, 256)  1024       ['conv4_block2_1_conv[0][0]']    \n",
            " ization)                                                                                         \n",
            "                                                                                                  \n",
            " conv4_block2_1_relu (Activatio  (None, 32, 32, 256)  0          ['conv4_block2_1_bn[0][0]']      \n",
            " n)                                                                                               \n",
            "                                                                                                  \n",
            " conv4_block2_2_conv (Conv2D)   (None, 32, 32, 256)  590080      ['conv4_block2_1_relu[0][0]']    \n",
            "                                                                                                  \n",
            " conv4_block2_2_bn (BatchNormal  (None, 32, 32, 256)  1024       ['conv4_block2_2_conv[0][0]']    \n",
            " ization)                                                                                         \n",
            "                                                                                                  \n",
            " conv4_block2_2_relu (Activatio  (None, 32, 32, 256)  0          ['conv4_block2_2_bn[0][0]']      \n",
            " n)                                                                                               \n",
            "                                                                                                  \n",
            " conv4_block2_3_conv (Conv2D)   (None, 32, 32, 1024  263168      ['conv4_block2_2_relu[0][0]']    \n",
            "                                )                                                                 \n",
            "                                                                                                  \n",
            " conv4_block2_3_bn (BatchNormal  (None, 32, 32, 1024  4096       ['conv4_block2_3_conv[0][0]']    \n",
            " ization)                       )                                                                 \n",
            "                                                                                                  \n",
            " conv4_block2_add (Add)         (None, 32, 32, 1024  0           ['conv4_block1_out[0][0]',       \n",
            "                                )                                 'conv4_block2_3_bn[0][0]']      \n",
            "                                                                                                  \n",
            " conv4_block2_out (Activation)  (None, 32, 32, 1024  0           ['conv4_block2_add[0][0]']       \n",
            "                                )                                                                 \n",
            "                                                                                                  \n",
            " conv4_block3_1_conv (Conv2D)   (None, 32, 32, 256)  262400      ['conv4_block2_out[0][0]']       \n",
            "                                                                                                  \n",
            " conv4_block3_1_bn (BatchNormal  (None, 32, 32, 256)  1024       ['conv4_block3_1_conv[0][0]']    \n",
            " ization)                                                                                         \n",
            "                                                                                                  \n",
            " conv4_block3_1_relu (Activatio  (None, 32, 32, 256)  0          ['conv4_block3_1_bn[0][0]']      \n",
            " n)                                                                                               \n",
            "                                                                                                  \n",
            " conv4_block3_2_conv (Conv2D)   (None, 32, 32, 256)  590080      ['conv4_block3_1_relu[0][0]']    \n",
            "                                                                                                  \n",
            " conv4_block3_2_bn (BatchNormal  (None, 32, 32, 256)  1024       ['conv4_block3_2_conv[0][0]']    \n",
            " ization)                                                                                         \n",
            "                                                                                                  \n",
            " conv4_block3_2_relu (Activatio  (None, 32, 32, 256)  0          ['conv4_block3_2_bn[0][0]']      \n",
            " n)                                                                                               \n",
            "                                                                                                  \n",
            " conv4_block3_3_conv (Conv2D)   (None, 32, 32, 1024  263168      ['conv4_block3_2_relu[0][0]']    \n",
            "                                )                                                                 \n",
            "                                                                                                  \n",
            " conv4_block3_3_bn (BatchNormal  (None, 32, 32, 1024  4096       ['conv4_block3_3_conv[0][0]']    \n",
            " ization)                       )                                                                 \n",
            "                                                                                                  \n",
            " conv4_block3_add (Add)         (None, 32, 32, 1024  0           ['conv4_block2_out[0][0]',       \n",
            "                                )                                 'conv4_block3_3_bn[0][0]']      \n",
            "                                                                                                  \n",
            " conv4_block3_out (Activation)  (None, 32, 32, 1024  0           ['conv4_block3_add[0][0]']       \n",
            "                                )                                                                 \n",
            "                                                                                                  \n",
            " conv4_block4_1_conv (Conv2D)   (None, 32, 32, 256)  262400      ['conv4_block3_out[0][0]']       \n",
            "                                                                                                  \n",
            " conv4_block4_1_bn (BatchNormal  (None, 32, 32, 256)  1024       ['conv4_block4_1_conv[0][0]']    \n",
            " ization)                                                                                         \n",
            "                                                                                                  \n",
            " conv4_block4_1_relu (Activatio  (None, 32, 32, 256)  0          ['conv4_block4_1_bn[0][0]']      \n",
            " n)                                                                                               \n",
            "                                                                                                  \n",
            " conv4_block4_2_conv (Conv2D)   (None, 32, 32, 256)  590080      ['conv4_block4_1_relu[0][0]']    \n",
            "                                                                                                  \n",
            " conv4_block4_2_bn (BatchNormal  (None, 32, 32, 256)  1024       ['conv4_block4_2_conv[0][0]']    \n",
            " ization)                                                                                         \n",
            "                                                                                                  \n",
            " conv4_block4_2_relu (Activatio  (None, 32, 32, 256)  0          ['conv4_block4_2_bn[0][0]']      \n",
            " n)                                                                                               \n",
            "                                                                                                  \n",
            " conv4_block4_3_conv (Conv2D)   (None, 32, 32, 1024  263168      ['conv4_block4_2_relu[0][0]']    \n",
            "                                )                                                                 \n",
            "                                                                                                  \n",
            " conv4_block4_3_bn (BatchNormal  (None, 32, 32, 1024  4096       ['conv4_block4_3_conv[0][0]']    \n",
            " ization)                       )                                                                 \n",
            "                                                                                                  \n",
            " conv4_block4_add (Add)         (None, 32, 32, 1024  0           ['conv4_block3_out[0][0]',       \n",
            "                                )                                 'conv4_block4_3_bn[0][0]']      \n",
            "                                                                                                  \n",
            " conv4_block4_out (Activation)  (None, 32, 32, 1024  0           ['conv4_block4_add[0][0]']       \n",
            "                                )                                                                 \n",
            "                                                                                                  \n",
            " conv4_block5_1_conv (Conv2D)   (None, 32, 32, 256)  262400      ['conv4_block4_out[0][0]']       \n",
            "                                                                                                  \n",
            " conv4_block5_1_bn (BatchNormal  (None, 32, 32, 256)  1024       ['conv4_block5_1_conv[0][0]']    \n",
            " ization)                                                                                         \n",
            "                                                                                                  \n",
            " conv4_block5_1_relu (Activatio  (None, 32, 32, 256)  0          ['conv4_block5_1_bn[0][0]']      \n",
            " n)                                                                                               \n",
            "                                                                                                  \n",
            " conv4_block5_2_conv (Conv2D)   (None, 32, 32, 256)  590080      ['conv4_block5_1_relu[0][0]']    \n",
            "                                                                                                  \n",
            " conv4_block5_2_bn (BatchNormal  (None, 32, 32, 256)  1024       ['conv4_block5_2_conv[0][0]']    \n",
            " ization)                                                                                         \n",
            "                                                                                                  \n",
            " conv4_block5_2_relu (Activatio  (None, 32, 32, 256)  0          ['conv4_block5_2_bn[0][0]']      \n",
            " n)                                                                                               \n",
            "                                                                                                  \n",
            " conv4_block5_3_conv (Conv2D)   (None, 32, 32, 1024  263168      ['conv4_block5_2_relu[0][0]']    \n",
            "                                )                                                                 \n",
            "                                                                                                  \n",
            " conv4_block5_3_bn (BatchNormal  (None, 32, 32, 1024  4096       ['conv4_block5_3_conv[0][0]']    \n",
            " ization)                       )                                                                 \n",
            "                                                                                                  \n",
            " conv4_block5_add (Add)         (None, 32, 32, 1024  0           ['conv4_block4_out[0][0]',       \n",
            "                                )                                 'conv4_block5_3_bn[0][0]']      \n",
            "                                                                                                  \n",
            " conv4_block5_out (Activation)  (None, 32, 32, 1024  0           ['conv4_block5_add[0][0]']       \n",
            "                                )                                                                 \n",
            "                                                                                                  \n",
            " conv4_block6_1_conv (Conv2D)   (None, 32, 32, 256)  262400      ['conv4_block5_out[0][0]']       \n",
            "                                                                                                  \n",
            " conv4_block6_1_bn (BatchNormal  (None, 32, 32, 256)  1024       ['conv4_block6_1_conv[0][0]']    \n",
            " ization)                                                                                         \n",
            "                                                                                                  \n",
            " conv4_block6_1_relu (Activatio  (None, 32, 32, 256)  0          ['conv4_block6_1_bn[0][0]']      \n",
            " n)                                                                                               \n",
            "                                                                                                  \n",
            " conv4_block6_2_conv (Conv2D)   (None, 32, 32, 256)  590080      ['conv4_block6_1_relu[0][0]']    \n",
            "                                                                                                  \n",
            " conv4_block6_2_bn (BatchNormal  (None, 32, 32, 256)  1024       ['conv4_block6_2_conv[0][0]']    \n",
            " ization)                                                                                         \n",
            "                                                                                                  \n",
            " conv4_block6_2_relu (Activatio  (None, 32, 32, 256)  0          ['conv4_block6_2_bn[0][0]']      \n",
            " n)                                                                                               \n",
            "                                                                                                  \n",
            " conv4_block6_3_conv (Conv2D)   (None, 32, 32, 1024  263168      ['conv4_block6_2_relu[0][0]']    \n",
            "                                )                                                                 \n",
            "                                                                                                  \n",
            " conv4_block6_3_bn (BatchNormal  (None, 32, 32, 1024  4096       ['conv4_block6_3_conv[0][0]']    \n",
            " ization)                       )                                                                 \n",
            "                                                                                                  \n",
            " conv4_block6_add (Add)         (None, 32, 32, 1024  0           ['conv4_block5_out[0][0]',       \n",
            "                                )                                 'conv4_block6_3_bn[0][0]']      \n",
            "                                                                                                  \n",
            " conv4_block6_out (Activation)  (None, 32, 32, 1024  0           ['conv4_block6_add[0][0]']       \n",
            "                                )                                                                 \n",
            "                                                                                                  \n",
            " average_pooling2d (AveragePool  (None, 1, 1, 1024)  0           ['conv4_block6_out[0][0]']       \n",
            " ing2D)                                                                                           \n",
            "                                                                                                  \n",
            " conv2d (Conv2D)                (None, 1, 1, 256)    262144      ['average_pooling2d[0][0]']      \n",
            "                                                                                                  \n",
            " batch_normalization (BatchNorm  (None, 1, 1, 256)   1024        ['conv2d[0][0]']                 \n",
            " alization)                                                                                       \n",
            "                                                                                                  \n",
            " conv2d_1 (Conv2D)              (None, 32, 32, 256)  262144      ['conv4_block6_out[0][0]']       \n",
            "                                                                                                  \n",
            " conv2d_2 (Conv2D)              (None, 32, 32, 256)  2359296     ['conv4_block6_out[0][0]']       \n",
            "                                                                                                  \n",
            " conv2d_3 (Conv2D)              (None, 32, 32, 256)  2359296     ['conv4_block6_out[0][0]']       \n",
            "                                                                                                  \n",
            " conv2d_4 (Conv2D)              (None, 32, 32, 256)  2359296     ['conv4_block6_out[0][0]']       \n",
            "                                                                                                  \n",
            " activation (Activation)        (None, 1, 1, 256)    0           ['batch_normalization[0][0]']    \n",
            "                                                                                                  \n",
            " batch_normalization_1 (BatchNo  (None, 32, 32, 256)  1024       ['conv2d_1[0][0]']               \n",
            " rmalization)                                                                                     \n",
            "                                                                                                  \n",
            " batch_normalization_2 (BatchNo  (None, 32, 32, 256)  1024       ['conv2d_2[0][0]']               \n",
            " rmalization)                                                                                     \n",
            "                                                                                                  \n",
            " batch_normalization_3 (BatchNo  (None, 32, 32, 256)  1024       ['conv2d_3[0][0]']               \n",
            " rmalization)                                                                                     \n",
            "                                                                                                  \n",
            " batch_normalization_4 (BatchNo  (None, 32, 32, 256)  1024       ['conv2d_4[0][0]']               \n",
            " rmalization)                                                                                     \n",
            "                                                                                                  \n",
            " up_sampling2d (UpSampling2D)   (None, 32, 32, 256)  0           ['activation[0][0]']             \n",
            "                                                                                                  \n",
            " activation_1 (Activation)      (None, 32, 32, 256)  0           ['batch_normalization_1[0][0]']  \n",
            "                                                                                                  \n",
            " activation_2 (Activation)      (None, 32, 32, 256)  0           ['batch_normalization_2[0][0]']  \n",
            "                                                                                                  \n",
            " activation_3 (Activation)      (None, 32, 32, 256)  0           ['batch_normalization_3[0][0]']  \n",
            "                                                                                                  \n",
            " activation_4 (Activation)      (None, 32, 32, 256)  0           ['batch_normalization_4[0][0]']  \n",
            "                                                                                                  \n",
            " concatenate (Concatenate)      (None, 32, 32, 1280  0           ['up_sampling2d[0][0]',          \n",
            "                                )                                 'activation_1[0][0]',           \n",
            "                                                                  'activation_2[0][0]',           \n",
            "                                                                  'activation_3[0][0]',           \n",
            "                                                                  'activation_4[0][0]']           \n",
            "                                                                                                  \n",
            " conv2d_5 (Conv2D)              (None, 32, 32, 256)  327680      ['concatenate[0][0]']            \n",
            "                                                                                                  \n",
            " batch_normalization_5 (BatchNo  (None, 32, 32, 256)  1024       ['conv2d_5[0][0]']               \n",
            " rmalization)                                                                                     \n",
            "                                                                                                  \n",
            " conv2d_6 (Conv2D)              (None, 128, 128, 48  12288       ['conv2_block2_out[0][0]']       \n",
            "                                )                                                                 \n",
            "                                                                                                  \n",
            " activation_5 (Activation)      (None, 32, 32, 256)  0           ['batch_normalization_5[0][0]']  \n",
            "                                                                                                  \n",
            " batch_normalization_6 (BatchNo  (None, 128, 128, 48  192        ['conv2d_6[0][0]']               \n",
            " rmalization)                   )                                                                 \n",
            "                                                                                                  \n",
            " up_sampling2d_1 (UpSampling2D)  (None, 128, 128, 25  0          ['activation_5[0][0]']           \n",
            "                                6)                                                                \n",
            "                                                                                                  \n",
            " activation_6 (Activation)      (None, 128, 128, 48  0           ['batch_normalization_6[0][0]']  \n",
            "                                )                                                                 \n",
            "                                                                                                  \n",
            " concatenate_1 (Concatenate)    (None, 128, 128, 30  0           ['up_sampling2d_1[0][0]',        \n",
            "                                4)                                'activation_6[0][0]']           \n",
            "                                                                                                  \n",
            " global_average_pooling2d (Glob  (None, 304)         0           ['concatenate_1[0][0]']          \n",
            " alAveragePooling2D)                                                                              \n",
            "                                                                                                  \n",
            " reshape (Reshape)              (None, 1, 1, 304)    0           ['global_average_pooling2d[0][0]'\n",
            "                                                                 ]                                \n",
            "                                                                                                  \n",
            " dense (Dense)                  (None, 1, 1, 38)     11552       ['reshape[0][0]']                \n",
            "                                                                                                  \n",
            " dense_1 (Dense)                (None, 1, 1, 304)    11552       ['dense[0][0]']                  \n",
            "                                                                                                  \n",
            " tf.math.multiply (TFOpLambda)  (None, 128, 128, 30  0           ['concatenate_1[0][0]',          \n",
            "                                4)                                'dense_1[0][0]']                \n",
            "                                                                                                  \n",
            " conv2d_7 (Conv2D)              (None, 128, 128, 25  700416      ['tf.math.multiply[0][0]']       \n",
            "                                6)                                                                \n",
            "                                                                                                  \n",
            " batch_normalization_7 (BatchNo  (None, 128, 128, 25  1024       ['conv2d_7[0][0]']               \n",
            " rmalization)                   6)                                                                \n",
            "                                                                                                  \n",
            " activation_7 (Activation)      (None, 128, 128, 25  0           ['batch_normalization_7[0][0]']  \n",
            "                                6)                                                                \n",
            "                                                                                                  \n",
            " conv2d_8 (Conv2D)              (None, 128, 128, 25  589824      ['activation_7[0][0]']           \n",
            "                                6)                                                                \n",
            "                                                                                                  \n",
            " batch_normalization_8 (BatchNo  (None, 128, 128, 25  1024       ['conv2d_8[0][0]']               \n",
            " rmalization)                   6)                                                                \n",
            "                                                                                                  \n",
            " activation_8 (Activation)      (None, 128, 128, 25  0           ['batch_normalization_8[0][0]']  \n",
            "                                6)                                                                \n",
            "                                                                                                  \n",
            " global_average_pooling2d_1 (Gl  (None, 256)         0           ['activation_8[0][0]']           \n",
            " obalAveragePooling2D)                                                                            \n",
            "                                                                                                  \n",
            " reshape_1 (Reshape)            (None, 1, 1, 256)    0           ['global_average_pooling2d_1[0][0\n",
            "                                                                 ]']                              \n",
            "                                                                                                  \n",
            " dense_2 (Dense)                (None, 1, 1, 32)     8192        ['reshape_1[0][0]']              \n",
            "                                                                                                  \n",
            " dense_3 (Dense)                (None, 1, 1, 256)    8192        ['dense_2[0][0]']                \n",
            "                                                                                                  \n",
            " tf.math.multiply_1 (TFOpLambda  (None, 128, 128, 25  0          ['activation_8[0][0]',           \n",
            " )                              6)                                'dense_3[0][0]']                \n",
            "                                                                                                  \n",
            " up_sampling2d_2 (UpSampling2D)  (None, 512, 512, 25  0          ['tf.math.multiply_1[0][0]']     \n",
            "                                6)                                                                \n",
            "                                                                                                  \n",
            " conv2d_9 (Conv2D)              (None, 512, 512, 1)  257         ['up_sampling2d_2[0][0]']        \n",
            "                                                                                                  \n",
            " activation_9 (Activation)      (None, 512, 512, 1)  0           ['conv2d_9[0][0]']               \n",
            "                                                                                                  \n",
            "==================================================================================================\n",
            "Total params: 17,869,697\n",
            "Trainable params: 17,834,913\n",
            "Non-trainable params: 34,784\n",
            "__________________________________________________________________________________________________\n"
          ]
        }
      ]
    },
    {
      "cell_type": "markdown",
      "metadata": {
        "id": "-4GgUXrt1Xqf"
      },
      "source": [
        "# Convert Keras model to CoreML Model\n"
      ]
    },
    {
      "cell_type": "code",
      "metadata": {
        "id": "XDg9OBaYqRMd",
        "colab": {
          "base_uri": "https://localhost:8080/"
        },
        "outputId": "f3a55989-1e7f-479f-d0a1-30ecc4764efd"
      },
      "source": [
        "# image_input = ct.ImageType(color_layout=\"RGB\", scale=1/127.0, bias=[-1,-1,-1])\n",
        "image_input = ct.ImageType(color_layout=\"RGB\", scale=1/255.0, bias=[0,0,0])\n",
        "# classifier_config = ct.ClassifierConfig(labels)\n",
        "\n",
        "# Set input as ImageType so CoreML can automatically resize it using Vision framework\n",
        "coreml_model = ct.convert(model, inputs=[image_input])"
      ],
      "execution_count": 9,
      "outputs": [
        {
          "output_type": "stream",
          "name": "stderr",
          "text": [
            "Running TensorFlow Graph Passes: 100%|██████████| 5/5 [00:01<00:00,  2.63 passes/s]\n",
            "Converting Frontend ==> MIL Ops: 100%|██████████| 659/659 [00:01<00:00, 408.28 ops/s]\n",
            "Running MIL Common passes: 100%|██████████| 34/34 [00:02<00:00, 13.98 passes/s]\n",
            "Running MIL Clean up passes: 100%|██████████| 9/9 [00:00<00:00, 27.22 passes/s]\n",
            "Translating MIL ==> NeuralNetwork Ops: 100%|██████████| 674/674 [00:03<00:00, 221.16 ops/s]\n"
          ]
        }
      ]
    },
    {
      "cell_type": "markdown",
      "metadata": {
        "id": "eNzcTTYMCUkR"
      },
      "source": [
        "## Get Model input specs\n",
        "There should be a 1/255.0 scaler, The model input is between 0 to 1"
      ]
    },
    {
      "cell_type": "code",
      "metadata": {
        "id": "--uqy4qVu_M_",
        "colab": {
          "base_uri": "https://localhost:8080/"
        },
        "outputId": "dd8660f3-4cd8-45b9-f78e-b86bc2092aa5"
      },
      "source": [
        "# # Define Spec Function\n",
        "from coremltools.models.neural_network.builder import _get_nn_spec as get_nn\n",
        "\n",
        "## Get Spec and check preprocessing\n",
        "spec = coreml_model.get_spec()\n",
        "nn = get_nn(spec)\n",
        "print(nn.preprocessing)"
      ],
      "execution_count": 10,
      "outputs": [
        {
          "output_type": "stream",
          "name": "stdout",
          "text": [
            "[featureName: \"input_1\"\n",
            "scaler {\n",
            "  channelScale: 0.003921568859368563\n",
            "}\n",
            "]\n"
          ]
        }
      ]
    },
    {
      "cell_type": "markdown",
      "metadata": {
        "id": "v-s9ZjAK1oY4"
      },
      "source": [
        "# Save CoreML Model"
      ]
    },
    {
      "cell_type": "markdown",
      "metadata": {
        "id": "zWMNOVeeCKM7"
      },
      "source": [
        "## Create model folder"
      ]
    },
    {
      "cell_type": "code",
      "metadata": {
        "id": "cs7aWbBeCIs6"
      },
      "source": [
        "model_name = MODEL_FILENAME.split(\"/\")[-1]\n",
        "folder_name = GDRIVE_FOLDER + \"/CoreML\"\n",
        "!mkdir -p {folder_name}"
      ],
      "execution_count": 11,
      "outputs": []
    },
    {
      "cell_type": "markdown",
      "metadata": {
        "id": "1S3RJDjmCM3_"
      },
      "source": [
        "## Save model to google drive"
      ]
    },
    {
      "cell_type": "code",
      "metadata": {
        "id": "1J-llQvsd_7M",
        "colab": {
          "base_uri": "https://localhost:8080/"
        },
        "outputId": "9c2e2a82-7e3e-44f8-a9d1-19ca160cc301"
      },
      "source": [
        "coreml_file_path = \"{0}/{1}.mlmodel\".format(folder_name, model_name.split(\".\")[0])\n",
        "coreml_model.save(coreml_file_path)\n",
        "print(\"Core ML model {} saved in {}\".format(model_name.split(\".\")[0], folder_name))"
      ],
      "execution_count": 12,
      "outputs": [
        {
          "output_type": "stream",
          "name": "stdout",
          "text": [
            "Core ML model treeseg_2022-01-15 saved in /content/drive/MyDrive/CoreML\n"
          ]
        }
      ]
    }
  ]
}